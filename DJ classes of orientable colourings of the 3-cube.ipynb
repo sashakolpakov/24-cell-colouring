{
 "cells": [
  {
   "cell_type": "code",
   "execution_count": 1,
   "metadata": {
    "collapsed": false
   },
   "outputs": [
   ],
   "source": [
    "################################################################################################################################\n",
    "### THIS WORKSHEET COMPUTES REPRESENTATIVES FOR ALL DJ-EQUIVALENCE CLASSES OF ORIENTABLE COLORINGS OF THE 3-DIMENSIONAL CUBE ###\n",
    "###         IT PRINTS THE ASSOCAITED DEFINING MATRICES AND COMPUTES THE BETTI NUMBERS FOR EACH DJ-REPRESENTATIVE             ###\n",
    "################################################################################################################################"
   ]
  },
  {
   "cell_type": "code",
   "execution_count": 2,
   "metadata": {
    "collapsed": false
   },
   "outputs": [
   ],
   "source": [
    "################### SIMPLICIAL COMPLEX #########################"
   ]
  },
  {
   "cell_type": "code",
   "execution_count": 3,
   "metadata": {
    "collapsed": false
   },
   "outputs": [
   ],
   "source": [
    "#\n",
    "# Create the simplicial complex dual to the 3-cube = an octahedron\n",
    "#\n",
    "S = SimplicialComplex([[0,2,4],[0,2,5],[0,3,4],[0,3,5],[1,2,4],[1,2,5],[1,3,4],[1,3,5]])"
   ]
  },
  {
   "cell_type": "code",
   "execution_count": 4,
   "metadata": {
    "collapsed": false
   },
   "outputs": [
   ],
   "source": [
    "#\n",
    "# The edges of the complex\n",
    "#\n",
    "edges = [(0,2),(0,3),(0,4),(0,5),(1,2),(1,3),(1,4),(1,5),(2,4),(2,5),(3,4),(3,5)]"
   ]
  },
  {
   "cell_type": "code",
   "execution_count": 5,
   "metadata": {
    "collapsed": false
   },
   "outputs": [
   ],
   "source": [
    "################### GROUP OF SYMMETRIES #########################"
   ]
  },
  {
   "cell_type": "code",
   "execution_count": 6,
   "metadata": {
    "collapsed": false
   },
   "outputs": [
   ],
   "source": [
    "#\n",
    "# The group of symmetries of S\n",
    "#\n",
    "Gamma = S.automorphism_group()"
   ]
  },
  {
   "cell_type": "code",
   "execution_count": 7,
   "metadata": {
    "collapsed": false
   },
   "outputs": [
   ],
   "source": [
    "############### COLOURING SPACES AND ORIENTABLES COLOURS #####################"
   ]
  },
  {
   "cell_type": "code",
   "execution_count": 8,
   "metadata": {
    "collapsed": false
   },
   "outputs": [
   ],
   "source": [
    "#\n",
    "# Create the vector spaces for the rank k = 3,4,5 colorings\n",
    "#\n",
    "Vec3 = VectorSpace(GF(2), 3);\n",
    "Vec4 = VectorSpace(GF(2), 4);\n",
    "Vec5 = VectorSpace(GF(2), 5);"
   ]
  },
  {
   "cell_type": "code",
   "execution_count": 9,
   "metadata": {
    "collapsed": false
   },
   "outputs": [
    {
     "name": "stdout",
     "output_type": "stream",
     "text": [
      "Rank 3 colours:\n",
      "(1, 0, 0)\n",
      "(0, 1, 0)\n",
      "(0, 0, 1)\n",
      "(1, 1, 1)\n",
      "Total 4 colours\n",
      "Rank 4 colours:\n",
      "(1, 0, 0, 0)\n",
      "(0, 1, 0, 0)\n",
      "(0, 0, 1, 0)\n",
      "(0, 0, 0, 1)\n",
      "(0, 1, 1, 1)\n",
      "(1, 0, 1, 1)\n",
      "(1, 1, 0, 1)\n",
      "(1, 1, 1, 0)\n",
      "Total 8 colours\n",
      "Rank 5 colours:\n",
      "(1, 0, 0, 0, 0)\n",
      "(0, 1, 0, 0, 0)\n",
      "(0, 0, 1, 0, 0)\n",
      "(0, 0, 0, 1, 0)\n",
      "(0, 0, 0, 0, 1)\n",
      "(1, 1, 1, 0, 0)\n",
      "(1, 1, 0, 1, 0)\n",
      "(1, 1, 0, 0, 1)\n",
      "(1, 0, 1, 1, 0)\n",
      "(1, 0, 1, 0, 1)\n",
      "(1, 0, 0, 1, 1)\n",
      "(0, 1, 1, 1, 0)\n",
      "(0, 1, 1, 0, 1)\n",
      "(0, 1, 0, 1, 1)\n",
      "(0, 0, 1, 1, 1)\n",
      "(1, 1, 1, 1, 1)\n",
      "Total 16 colours\n"
     ]
    }
   ],
   "source": [
    "#\n",
    "# Create the list of rank 3 orientable colours\n",
    "#\n",
    "Colours3=[Vec3(vector([1,0,0])), Vec3(vector([0,1,0])), Vec3(vector([0,0,1])), Vec3(vector([1,1,1]))]\n",
    "print(\"Rank 3 colours:\")\n",
    "for c in Colours3:\n",
    "    print(c)\n",
    "print(\"Total\", len(Colours3), \"colours\")\n",
    "#\n",
    "# Create the list of rank 4 orientable colours\n",
    "#\n",
    "Colours4=[]\n",
    "for i in range(4):\n",
    "    temp=[0]*4\n",
    "    temp[i]=1\n",
    "    Colours4.append(Vec4(vector(temp)))\n",
    "for i in range(4):\n",
    "    temp=[1]*4\n",
    "    temp[i]=0\n",
    "    Colours4.append(Vec4(vector(temp)))\n",
    "print(\"Rank 4 colours:\")\n",
    "for c in Colours4:\n",
    "    print(c)\n",
    "print(\"Total\", len(Colours4), \"colours\")\n",
    "#\n",
    "# Create the list of rank 5 orientable colours\n",
    "#\n",
    "Colours5=[]\n",
    "for i in range(5):\n",
    "    temp=[0]*5\n",
    "    temp[i]=1\n",
    "    Colours5.append(Vec5(vector(temp)))\n",
    "for i in range(5):\n",
    "    for j in range(i+1,5):\n",
    "        for k in range(j+1,5):\n",
    "            temp=[0]*5\n",
    "            temp[i]=1\n",
    "            temp[j]=1\n",
    "            temp[k]=1\n",
    "            Colours5.append(Vec5(vector(temp)))\n",
    "Colours5.append(Vec5(vector([1,1,1,1,1])))\n",
    "print(\"Rank 5 colours:\")\n",
    "for c in Colours5:\n",
    "    print(c)\n",
    "print(\"Total\", len(Colours5), \"colours\")"
   ]
  },
  {
   "cell_type": "code",
   "execution_count": 10,
   "metadata": {
    "collapsed": false
   },
   "outputs": [
   ],
   "source": [
    "################## RANK 3 COLOURINGS ######################"
   ]
  },
  {
   "cell_type": "code",
   "execution_count": 11,
   "metadata": {
    "collapsed": false
   },
   "outputs": [
   ],
   "source": [
    "#\n",
    "# Generate all possible colourings after fixing a basis\n",
    "#\n",
    "all_possible_colourings = []\n",
    "for i in range(4):\n",
    "    for j in range(4):\n",
    "        for k in range(4):\n",
    "            all_possible_colourings.append([0,i,1,j,2,k])"
   ]
  },
  {
   "cell_type": "code",
   "execution_count": 12,
   "metadata": {
    "collapsed": false
   },
   "outputs": [
    {
     "name": "stdout",
     "output_type": "stream",
     "text": [
      "Total proper colourings: 4\n"
     ]
    }
   ],
   "source": [
    "#\n",
    "# Remove all non-proper colourings\n",
    "#\n",
    "temp = []\n",
    "tot = len(edges)\n",
    "for v in all_possible_colourings:\n",
    "    count = 0\n",
    "    for e in edges:\n",
    "        if v[e[0]]==v[e[1]]:\n",
    "            break\n",
    "        else:\n",
    "            count = count+1\n",
    "    if count==tot:\n",
    "        temp.append(v)\n",
    "all_possible_colourings = temp\n",
    "print(\"Total proper colourings:\", len(all_possible_colourings))"
   ]
  },
  {
   "cell_type": "code",
   "execution_count": 13,
   "metadata": {
    "collapsed": false
   },
   "outputs": [
   ],
   "source": [
    "#\n",
    "# Since we are dealing with orientable colorings (which only use colors with an odd number of '1' entries) it is sufficient to check\n",
    "# the properness condition on the edges of S, and it automatically follows for the triangles. Whenever we have 3 such colors and they\n",
    "# are pairwise linearly independent, then the entire triple is linearly independent\n",
    "#"
   ]
  },
  {
   "cell_type": "code",
   "execution_count": 14,
   "metadata": {
    "collapsed": false
   },
   "outputs": [
   ],
   "source": [
    "#\n",
    "# Sends the colouring v to an equivalent colouring induced by the symmetry g\n",
    "# and then send the colours in the fixed vertices back to the canonical basis\n",
    "#\n",
    "def DJ_equivalence3(g,v):\n",
    "    num = 6 # the number of vertices\n",
    "    tot = 4 # the number of colours\n",
    "    L0 = matrix(GF(2),[Colours3[v[g(0)]],Colours3[v[g(2)]],Colours3[v[g(4)]]]).transpose()\n",
    "    if L0.det()==0:\n",
    "        return None # if the matrix is not invertible, the symmetry is not admissible\n",
    "    else:\n",
    "        L = L0.inverse()\n",
    "        lst = []\n",
    "        for i in range(num):\n",
    "            col = L*Colours3[v[g(i)]]\n",
    "            for j in range(tot):\n",
    "                if Colours3[j]==col:\n",
    "                    lst.append(j)\n",
    "                    break\n",
    "        return lst"
   ]
  },
  {
   "cell_type": "code",
   "execution_count": 15,
   "metadata": {
    "collapsed": false
   },
   "outputs": [
    {
     "name": "stdout",
     "output_type": "stream",
     "text": [
      "Total colouring classes: 2\n",
      "-------------\n",
      "[1 1 0 0 0 0]\n",
      "[0 0 1 1 0 0]\n",
      "[0 0 0 0 1 1]\n",
      "-------------\n",
      "-------------\n",
      "[1 1 0 0 0 1]\n",
      "[0 0 1 1 0 1]\n",
      "[0 0 0 0 1 1]\n",
      "-------------\n"
     ]
    }
   ],
   "source": [
    "#\n",
    "# Listing all possible DJ-equivalence classes of rank 3 orientable colourings\n",
    "#\n",
    "Colouring_classes_3 = []\n",
    "order = Gamma.order()\n",
    "lst = []\n",
    "for v in all_possible_colourings:\n",
    "    count = 0\n",
    "    for g in Gamma:\n",
    "        perm = DJ_equivalence3(g,v)\n",
    "        if not perm==v:\n",
    "            if perm in lst: # in this case the colouring just obtained is\n",
    "                break       # equivalent to another colouring already listed\n",
    "            else:\n",
    "                count = count+1\n",
    "        else:\n",
    "            count = count+1\n",
    "    if count==order:\n",
    "        lst.append(v)\n",
    "for v in lst:\n",
    "    temp = []\n",
    "    for i in range(6):\n",
    "        temp.append(Colours3[v[i]])\n",
    "    L = matrix(GF(2),temp).transpose()\n",
    "    Colouring_classes_3.append(L)\n",
    "print(\"Total colouring classes:\", len(Colouring_classes_3))\n",
    "for c in Colouring_classes_3:\n",
    "    print(\"-------------\")\n",
    "    print(c)\n",
    "    print(\"-------------\")"
   ]
  },
  {
   "cell_type": "code",
   "execution_count": 16,
   "metadata": {
    "collapsed": false
   },
   "outputs": [
   ],
   "source": [
    "################## RANK 4 COLOURINGS ######################"
   ]
  },
  {
   "cell_type": "code",
   "execution_count": 17,
   "metadata": {
    "collapsed": false
   },
   "outputs": [
   ],
   "source": [
    "#\n",
    "# Generate all possible colourings after fixing a basis\n",
    "#\n",
    "all_possible_colourings = []\n",
    "for i in range(8):\n",
    "    for j in range(8):\n",
    "        all_possible_colourings.append([0,3,1,i,2,j])"
   ]
  },
  {
   "cell_type": "code",
   "execution_count": 18,
   "metadata": {
    "collapsed": false
   },
   "outputs": [
    {
     "name": "stdout",
     "output_type": "stream",
     "text": [
      "Total proper colourings: 21\n"
     ]
    }
   ],
   "source": [
    "#\n",
    "# Remove all improper colourings\n",
    "#\n",
    "temp = []\n",
    "tot = len(edges)\n",
    "for v in all_possible_colourings:\n",
    "    count=0\n",
    "    for e in edges:\n",
    "        if v[e[0]]==v[e[1]]:\n",
    "            break\n",
    "        else:\n",
    "            count=count+1\n",
    "    if count==tot:\n",
    "        temp.append(v)\n",
    "all_possible_colourings = temp\n",
    "print(\"Total proper colourings:\", len(all_possible_colourings))"
   ]
  },
  {
   "cell_type": "code",
   "execution_count": 19,
   "metadata": {
    "collapsed": false
   },
   "outputs": [
   ],
   "source": [
    "#\n",
    "# Sends the colouring v to an equivalent colouring induced by the symmetry g\n",
    "# and then send the colours in the fixed vertices back to the canonical basis\n",
    "#\n",
    "def DJ_equivalence4(g,v):\n",
    "    num = 6 # the number of vertices\n",
    "    tot = 8 # the number of colours\n",
    "    L0 = matrix(GF(2),[Colours4[v[g(0)]],Colours4[v[g(2)]],Colours4[v[g(4)]],Colours4[v[g(1)]]]).transpose()\n",
    "    if L0.det()==0:\n",
    "        return None # if the matrix is not invertible, the symmetry is not admissible\n",
    "    else:\n",
    "        L = L0.inverse()\n",
    "        lst = []\n",
    "        for i in range(num):\n",
    "            col = L*Colours4[v[g(i)]]\n",
    "            for j in range(tot):\n",
    "                if Colours4[j]==col:\n",
    "                    lst.append(j)\n",
    "                    break\n",
    "        return lst"
   ]
  },
  {
   "cell_type": "code",
   "execution_count": 20,
   "metadata": {
    "collapsed": false
   },
   "outputs": [
    {
     "name": "stdout",
     "output_type": "stream",
     "text": [
      "Total colouring classes: 6\n",
      "-------------\n",
      "[1 0 0 0 0 0]\n",
      "[0 0 1 1 0 0]\n",
      "[0 0 0 0 1 1]\n",
      "[0 1 0 0 0 0]\n",
      "-------------\n",
      "-------------\n",
      "[1 0 0 0 0 0]\n",
      "[0 0 1 1 0 1]\n",
      "[0 0 0 0 1 1]\n",
      "[0 1 0 0 0 1]\n",
      "-------------\n",
      "-------------\n",
      "[1 0 0 0 0 1]\n",
      "[0 0 1 1 0 0]\n",
      "[0 0 0 0 1 1]\n",
      "[0 1 0 0 0 1]\n",
      "-------------\n",
      "-------------\n",
      "[1 0 0 0 0 1]\n",
      "[0 0 1 1 0 0]\n",
      "[0 0 0 1 1 1]\n",
      "[0 1 0 1 0 1]\n",
      "-------------\n",
      "-------------\n",
      "[1 0 0 0 0 1]\n",
      "[0 0 1 1 0 1]\n",
      "[0 0 0 1 1 0]\n",
      "[0 1 0 1 0 1]\n",
      "-------------\n",
      "-------------\n",
      "[1 0 0 1 0 1]\n",
      "[0 0 1 1 0 0]\n",
      "[0 0 0 0 1 1]\n",
      "[0 1 0 1 0 1]\n",
      "-------------\n"
     ]
    }
   ],
   "source": [
    "#\n",
    "# Listing all possible DJ-equivalence classes of rank 4 orientable colourings\n",
    "#\n",
    "Colouring_classes_4 = []\n",
    "order = Gamma.order()\n",
    "lst = []\n",
    "for v in all_possible_colourings:\n",
    "    count = 0\n",
    "    for g in Gamma:\n",
    "        perm = DJ_equivalence4(g,v)\n",
    "        if not perm==v:\n",
    "            if perm in lst:  # in this case the colouring just obtained is\n",
    "                break        # equivalent to another colouring already listed\n",
    "            else:\n",
    "                count = count+1\n",
    "        else:\n",
    "            count = count+1\n",
    "    if count==order:\n",
    "        lst.append(v)\n",
    "for v in lst:\n",
    "    temp = []\n",
    "    for i in range(6):\n",
    "        temp.append(Colours4[v[i]])\n",
    "    L = matrix(GF(2),temp).transpose()\n",
    "    Colouring_classes_4.append(L)\n",
    "print(\"Total colouring classes:\", len(Colouring_classes_4))\n",
    "for c in Colouring_classes_4:\n",
    "    print(\"-------------\")\n",
    "    print(c)\n",
    "    print(\"-------------\")"
   ]
  },
  {
   "cell_type": "code",
   "execution_count": 21,
   "metadata": {
    "collapsed": false
   },
   "outputs": [
   ],
   "source": [
    "################## RANK 5 COLOURINGS ######################"
   ]
  },
  {
   "cell_type": "code",
   "execution_count": 22,
   "metadata": {
    "collapsed": false
   },
   "outputs": [
   ],
   "source": [
    "#\n",
    "# Generate all possible colourings after fixing a basis\n",
    "#\n",
    "all_possible_colourings=[]\n",
    "for i in range(16):\n",
    "    all_possible_colourings.append([0,3,1,4,2,i])"
   ]
  },
  {
   "cell_type": "code",
   "execution_count": 23,
   "metadata": {
    "collapsed": false
   },
   "outputs": [
    {
     "name": "stdout",
     "output_type": "stream",
     "text": [
      "Total proper colourings: 12\n"
     ]
    }
   ],
   "source": [
    "#\n",
    "# Remove all improper colourings\n",
    "#\n",
    "temp = []\n",
    "tot = len(edges)\n",
    "for v in all_possible_colourings:\n",
    "    count = 0\n",
    "    for e in edges:\n",
    "        if v[e[0]]==v[e[1]]:\n",
    "            break\n",
    "        else:\n",
    "            count = count+1\n",
    "    if count==tot:\n",
    "        temp.append(v)\n",
    "all_possible_colourings = temp\n",
    "print(\"Total proper colourings:\", len(all_possible_colourings))"
   ]
  },
  {
   "cell_type": "code",
   "execution_count": 24,
   "metadata": {
    "collapsed": false
   },
   "outputs": [
   ],
   "source": [
    "def DJ_equivalence5(g,v):\n",
    "    num = 6 # the number of vertices\n",
    "    tot = 16 # the number of colours   \n",
    "    L0 = matrix(GF(2),[Colours5[v[g(0)]],Colours5[v[g(2)]],Colours5[v[g(4)]],Colours5[v[g(1)]],Colours5[v[g(3)]]]).transpose()\n",
    "    if L0.det()==0:\n",
    "        return None # if the matrix is not invertible, the symmetry is not admissible\n",
    "    else:\n",
    "        L = L0.inverse()\n",
    "        lst = []\n",
    "        for i in range(num):\n",
    "            col = L*Colours5[v[g(i)]]\n",
    "            for j in range(tot):\n",
    "                if Colours5[j]==col:\n",
    "                    lst.append(j)\n",
    "                    break\n",
    "        return lst"
   ]
  },
  {
   "cell_type": "code",
   "execution_count": 25,
   "metadata": {
    "collapsed": false
   },
   "outputs": [
    {
     "name": "stdout",
     "output_type": "stream",
     "text": [
      "Total colouring classes: 4\n",
      "-------------\n",
      "[1 0 0 0 0 0]\n",
      "[0 0 1 0 0 0]\n",
      "[0 0 0 0 1 1]\n",
      "[0 1 0 0 0 0]\n",
      "[0 0 0 1 0 0]\n",
      "-------------\n",
      "-------------\n",
      "[1 0 0 0 0 1]\n",
      "[0 0 1 0 0 1]\n",
      "[0 0 0 0 1 1]\n",
      "[0 1 0 0 0 0]\n",
      "[0 0 0 1 0 0]\n",
      "-------------\n",
      "-------------\n",
      "[1 0 0 0 0 1]\n",
      "[0 0 1 0 0 0]\n",
      "[0 0 0 0 1 1]\n",
      "[0 1 0 0 0 1]\n",
      "[0 0 0 1 0 0]\n",
      "-------------\n",
      "-------------\n",
      "[1 0 0 0 0 1]\n",
      "[0 0 1 0 0 1]\n",
      "[0 0 0 0 1 1]\n",
      "[0 1 0 0 0 1]\n",
      "[0 0 0 1 0 1]\n",
      "-------------\n"
     ]
    }
   ],
   "source": [
    "#\n",
    "# Listing all possible DJ-equivalence classes of rank 5 orientable colourings\n",
    "#\n",
    "Colouring_classes_5 = []\n",
    "order = Gamma.order()\n",
    "lst=[]\n",
    "for v in all_possible_colourings:\n",
    "    count = 0\n",
    "    for g in Gamma:\n",
    "        perm = DJ_equivalence5(g,v)\n",
    "        if not perm==v:\n",
    "            if perm in lst: # in this case the colouring just obtained is\n",
    "                break       # equivalent to another colouring already listed\n",
    "            else:\n",
    "                count = count+1\n",
    "        else:\n",
    "            count = count+1\n",
    "    if count==order:\n",
    "        lst.append(v)\n",
    "for v in lst:\n",
    "    temp = []\n",
    "    for i in range(6):\n",
    "        temp.append(Colours5[v[i]])\n",
    "    L = matrix(GF(2),temp).transpose()\n",
    "    Colouring_classes_5.append(L)\n",
    "print(\"Total colouring classes:\", len(Colouring_classes_5))\n",
    "for c in Colouring_classes_5:\n",
    "    print(\"-------------\")\n",
    "    print(c)\n",
    "    print(\"-------------\")"
   ]
  },
  {
   "cell_type": "code",
   "execution_count": 26,
   "metadata": {
    "collapsed": false
   },
   "outputs": [
   ],
   "source": [
    "################## RANK 6 COLOURING ######################"
   ]
  },
  {
   "cell_type": "code",
   "execution_count": 27,
   "metadata": {
    "collapsed": false
   },
   "outputs": [
   ],
   "source": [
    "Colouring_classes_6 = [matrix(GF(2), matrix.identity(6))]"
   ]
  },
  {
   "cell_type": "code",
   "execution_count": 28,
   "metadata": {
    "collapsed": false
   },
   "outputs": [
   ],
   "source": [
    "##################### DJ-EQUIVALENCE CLASSES AND THEIR BETTI NUMBERS ##################"
   ]
  },
  {
   "cell_type": "code",
   "execution_count": 29,
   "metadata": {
    "collapsed": false
   },
   "outputs": [
   ],
   "source": [
    "Colouring_classes = Colouring_classes_3 + Colouring_classes_4 + Colouring_classes_5 + Colouring_classes_6"
   ]
  },
  {
   "cell_type": "code",
   "execution_count": 30,
   "metadata": {
    "collapsed": false
   },
   "outputs": [
   ],
   "source": [
    "#\n",
    "# Homeomorphism type determined by Betti numbers\n",
    "#\n",
    "def homeo_type(b):\n",
    "    if b==[1,3,3,1]:\n",
    "        return \"torus\"\n",
    "    if b==[1,1,1,1]:\n",
    "        return \"half-twist\"\n",
    "    if b==[1,0,0,1]:\n",
    "        return \"Hantzsche-Wendt\""
   ]
  },
  {
   "cell_type": "code",
   "execution_count": 31,
   "metadata": {
    "collapsed": false
   },
   "outputs": [
    {
     "name": "stdout",
     "output_type": "stream",
     "text": [
      "Matrix (rank 3):\n",
      "[1 1 0 0 0 0]\n",
      "[0 0 1 1 0 0]\n",
      "[0 0 0 0 1 1]\n",
      "-------------\n",
      "Betti numbers:\n",
      "[1, 3, 3, 1]\n",
      "-------------\n",
      "Type: torus\n",
      "#############\n",
      "Matrix (rank 3):\n",
      "[1 1 0 0 0 1]\n",
      "[0 0 1 1 0 1]\n",
      "[0 0 0 0 1 1]\n",
      "-------------\n",
      "Betti numbers:\n",
      "[1, 1, 1, 1]\n",
      "-------------\n",
      "Type: half-twist\n",
      "#############\n",
      "Matrix (rank 4):\n",
      "[1 0 0 0 0 0]\n",
      "[0 0 1 1 0 0]\n",
      "[0 0 0 0 1 1]\n",
      "[0 1 0 0 0 0]\n",
      "-------------\n",
      "Betti numbers:\n",
      "[1, 3, 3, 1]\n",
      "-------------\n",
      "Type: torus\n",
      "#############\n"
     ]
    },
    {
     "name": "stdout",
     "output_type": "stream",
     "text": [
      "Matrix (rank 4):\n",
      "[1 0 0 0 0 0]\n",
      "[0 0 1 1 0 1]\n",
      "[0 0 0 0 1 1]\n",
      "[0 1 0 0 0 1]\n",
      "-------------\n",
      "Betti numbers:\n",
      "[1, 1, 1, 1]\n",
      "-------------\n",
      "Type: half-twist\n",
      "#############\n",
      "Matrix (rank 4):\n",
      "[1 0 0 0 0 1]\n",
      "[0 0 1 1 0 0]\n",
      "[0 0 0 0 1 1]\n",
      "[0 1 0 0 0 1]\n",
      "-------------\n",
      "Betti numbers:\n",
      "[1, 3, 3, 1]\n",
      "-------------\n",
      "Type: torus\n",
      "#############\n"
     ]
    },
    {
     "name": "stdout",
     "output_type": "stream",
     "text": [
      "Matrix (rank 4):\n",
      "[1 0 0 0 0 1]\n",
      "[0 0 1 1 0 0]\n",
      "[0 0 0 1 1 1]\n",
      "[0 1 0 1 0 1]\n",
      "-------------\n",
      "Betti numbers:\n",
      "[1, 1, 1, 1]\n",
      "-------------\n",
      "Type: half-twist\n",
      "#############\n",
      "Matrix (rank 4):\n",
      "[1 0 0 0 0 1]\n",
      "[0 0 1 1 0 1]\n",
      "[0 0 0 1 1 0]\n",
      "[0 1 0 1 0 1]\n",
      "-------------\n",
      "Betti numbers:\n",
      "[1, 0, 0, 1]\n",
      "-------------\n",
      "Type: Hantzsche-Wendt\n",
      "#############\n"
     ]
    },
    {
     "name": "stdout",
     "output_type": "stream",
     "text": [
      "Matrix (rank 4):\n",
      "[1 0 0 1 0 1]\n",
      "[0 0 1 1 0 0]\n",
      "[0 0 0 0 1 1]\n",
      "[0 1 0 1 0 1]\n",
      "-------------\n",
      "Betti numbers:\n",
      "[1, 3, 3, 1]\n",
      "-------------\n",
      "Type: torus\n",
      "#############\n"
     ]
    },
    {
     "name": "stdout",
     "output_type": "stream",
     "text": [
      "Matrix (rank 5):\n",
      "[1 0 0 0 0 0]\n",
      "[0 0 1 0 0 0]\n",
      "[0 0 0 0 1 1]\n",
      "[0 1 0 0 0 0]\n",
      "[0 0 0 1 0 0]\n",
      "-------------\n",
      "Betti numbers:\n",
      "[1, 3, 3, 1]\n",
      "-------------\n",
      "Type: torus\n",
      "#############\n"
     ]
    },
    {
     "name": "stdout",
     "output_type": "stream",
     "text": [
      "Matrix (rank 5):\n",
      "[1 0 0 0 0 1]\n",
      "[0 0 1 0 0 1]\n",
      "[0 0 0 0 1 1]\n",
      "[0 1 0 0 0 0]\n",
      "[0 0 0 1 0 0]\n",
      "-------------\n",
      "Betti numbers:\n",
      "[1, 1, 1, 1]\n",
      "-------------\n",
      "Type: half-twist\n",
      "#############\n"
     ]
    },
    {
     "name": "stdout",
     "output_type": "stream",
     "text": [
      "Matrix (rank 5):\n",
      "[1 0 0 0 0 1]\n",
      "[0 0 1 0 0 0]\n",
      "[0 0 0 0 1 1]\n",
      "[0 1 0 0 0 1]\n",
      "[0 0 0 1 0 0]\n",
      "-------------\n",
      "Betti numbers:\n",
      "[1, 3, 3, 1]\n",
      "-------------\n",
      "Type: torus\n",
      "#############\n"
     ]
    },
    {
     "name": "stdout",
     "output_type": "stream",
     "text": [
      "Matrix (rank 5):\n",
      "[1 0 0 0 0 1]\n",
      "[0 0 1 0 0 1]\n",
      "[0 0 0 0 1 1]\n",
      "[0 1 0 0 0 1]\n",
      "[0 0 0 1 0 1]\n",
      "-------------\n",
      "Betti numbers:\n",
      "[1, 3, 3, 1]\n",
      "-------------\n",
      "Type: torus\n",
      "#############\n"
     ]
    },
    {
     "name": "stdout",
     "output_type": "stream",
     "text": [
      "Matrix (rank 6):\n",
      "[1 0 0 0 0 0]\n",
      "[0 1 0 0 0 0]\n",
      "[0 0 1 0 0 0]\n",
      "[0 0 0 1 0 0]\n",
      "[0 0 0 0 1 0]\n",
      "[0 0 0 0 0 1]\n",
      "-------------\n",
      "Betti numbers:\n",
      "[1, 3, 3, 1]\n",
      "-------------\n",
      "Type: torus\n",
      "#############\n"
     ]
    }
   ],
   "source": [
    "#\n",
    "# The respective Betti numbers are calculated using Choi and Park's algorithm\n",
    "#\n",
    "V = S.vertices()\n",
    "m = len(V)\n",
    "n = S.dimension()\n",
    "for L in Colouring_classes:\n",
    "    Lambda = L.row_space()\n",
    "    k = len(Lambda)\n",
    "    A = matrix(k,n+1)\n",
    "    Betti = [0]*(n+2)\n",
    "    Betti[0] = 1\n",
    "    for i in range(1,k):\n",
    "        lst = []\n",
    "        for j in range(m):\n",
    "            if Lambda[i][j]==1:\n",
    "                lst.append(j)\n",
    "        Sub = S.generated_subcomplex(lst)\n",
    "        Dim = dimension(Sub)\n",
    "        B = Sub.betti()\n",
    "        A[i,0]=B[0]-1\n",
    "        if Dim>0:\n",
    "            for j in range(1,Dim+1):\n",
    "                A[i,j]=B[j]\n",
    "    for j in range(n+1):\n",
    "        Betti[j+1]=sum([A[i,j] for i in range(1,k)])\n",
    "    print(\"Matrix (rank \"+str(L.nrows())+\"):\")\n",
    "    print(L)\n",
    "    print('-------------')\n",
    "    print(\"Betti numbers:\")\n",
    "    print(Betti) \n",
    "    print('-------------')\n",
    "    print(\"Type:\", homeo_type(Betti))\n",
    "    print('#############')"
   ]
  }
 ],
 "metadata": {
  "kernelspec": {
   "display_name": "SageMath 9.1",
   "language": "sagemath",
   "metadata": {
    "cocalc": {
     "description": "Open-source mathematical software system",
     "priority": 10,
     "url": "https://www.sagemath.org/"
    }
   },
   "name": "sage-9.1"
  },
  "language_info": {
   "codemirror_mode": {
    "name": "ipython",
    "version": 3
   },
   "file_extension": ".py",
   "mimetype": "text/x-python",
   "name": "python",
   "nbconvert_exporter": "python",
   "pygments_lexer": "ipython3",
   "version": "3.7.3"
  }
 },
 "nbformat": 4,
 "nbformat_minor": 4
}