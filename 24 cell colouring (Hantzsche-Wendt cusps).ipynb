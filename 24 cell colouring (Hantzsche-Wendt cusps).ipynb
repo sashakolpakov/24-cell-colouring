{
 "cells": [
  {
   "cell_type": "code",
   "execution_count": 1,
   "metadata": {
    "collapsed": false
   },
   "outputs": [
   ],
   "source": [
    "################################################################################################################################\n",
    "###     THIS WORKSHEET PERFORMS THE COMPUTATIONS WITH THE REGULAR 24-CELL AND ITS COLOUIRING MENTIONED IN THE MANUSCRIPT     ###\n",
    "################################################################################################################################"
   ]
  },
  {
   "cell_type": "code",
   "execution_count": 2,
   "metadata": {
    "collapsed": false
   },
   "outputs": [
   ],
   "source": [
    "#\n",
    "# The list of 2-dimensional triangles of the 24-cell\n",
    "#\n",
    "triangles = [[0, 9, 10], [0, 9, 17], [0, 9, 19], [0, 10, 16], [0, 10, 18], [0, 13, 15], [0, 13, 17], [0, 13, 19], [0, 15, 16], [0, 15, 18], [0, 16, 17], [0, 18, 19], [1, 2, 5], [1, 2, 12], [1, 2, 19], [1, 5, 6], [1, 5, 13], [1, 6, 12], [1, 6, 17], [1, 9, 12], [1, 9, 17], [1, 9, 19], [1, 13, 17], [1, 13, 19], [2, 3, 14], [2, 3, 21], [2, 3, 23], [2, 5, 14], [2, 5, 23], [2, 12, 21], [2, 12, 23], [2, 14, 19], [2, 19, 21], [3, 4, 14], [3, 4, 22], [3, 4, 23], [3, 11, 21], [3, 11, 22], [3, 11, 23], [3, 14, 18], [3, 18, 21], [3, 18, 22], [4, 5, 14], [4, 5, 20], [4, 5, 23], [4, 8, 20], [4, 8, 22], [4, 8, 23], [4, 14, 15], [4, 15, 20], [4, 15, 22], [5, 6, 20], [5, 6, 23], [5, 13, 14], [5, 13, 20], [6, 7, 8], [6, 7, 12], [6, 7, 17], [6, 8, 20], [6, 8, 23], [6, 12, 23], [6, 17, 20], [7, 8, 11], [7, 8, 16], [7, 9, 10], [7, 9, 12], [7, 9, 17], [7, 10, 11], [7, 10, 16], [7, 11, 12], [7, 16, 17], [8, 11, 22], [8, 11, 23], [8, 16, 20], [8, 16, 22], [9, 10, 21], [9, 12, 21], [9, 19, 21], [10, 11, 21], [10, 11, 22], [10, 16, 22], [10, 18, 21], [10, 18, 22], [11, 12, 21], [11, 12, 23], [13, 14, 15], [13, 14, 19], [13, 15, 20], [13, 17, 20], [14, 15, 18], [14, 18, 19], [15, 16, 20], [15, 16, 22], [15, 18, 22], [16, 17, 20], [18, 19, 21]]"
   ]
  },
  {
   "cell_type": "code",
   "execution_count": 3,
   "metadata": {
    "collapsed": false
   },
   "outputs": [
   ],
   "source": [
    "#\n",
    "# The 2-dim skeleton of the 24-cell giving rise to a combinatorial complex\n",
    "#\n",
    "Z = SimplicialComplex(triangles);"
   ]
  },
  {
   "cell_type": "code",
   "execution_count": 4,
   "metadata": {
    "collapsed": false
   },
   "outputs": [
   ],
   "source": [
    "#\n",
    "# The list of octahedra of the 24-cell\n",
    "#\n",
    "octahedra = [[0, 9, 19, 21, 18, 10], [0, 9, 19, 1, 13, 17], [0, 19, 18, 14, 13, 15], [9, 19, 21, 1, 2, 12], [19, 21, 18, 14, 2, 3], [19, 1, 14, 2, 13, 5], [0, 9, 10, 17, 16, 7], [0, 18, 10, 15, 16, 22], [9, 21, 10, 12, 7, 11], [21, 18, 10, 3, 22, 11], [10, 16, 7, 22, 11, 8], [0, 13, 17, 15, 16, 20], [9, 1, 17, 12, 7, 6], [17, 16, 7, 8, 20, 6], [1, 13, 17, 5, 20, 6], [15, 16, 22, 8, 20, 4], [14, 13, 15, 5, 20, 4], [18, 14, 15, 3, 22, 4], [14, 2, 3, 5, 4, 23], [21, 2, 12, 3, 11, 23], [3, 22, 11, 8, 4, 23], [5, 8, 20, 6, 4, 23], [1, 2, 12, 5, 6, 23], [12, 7, 11, 8, 6, 23]]"
   ]
  },
  {
   "cell_type": "code",
   "execution_count": 5,
   "metadata": {
    "collapsed": false
   },
   "outputs": [
   ],
   "source": [
    "#\n",
    "# The list of colours used\n",
    "#\n",
    "Colours = [(1, 0, 0, 0), (0, 1, 0, 0), (0, 0, 1, 0), (0, 0, 0, 1), (0, 1, 1, 1), (1, 0, 1, 1), (1, 1, 0, 1), (1, 1, 1, 0)]\n",
    "Colours = [vector(GF(2), v) for v in Colours]"
   ]
  },
  {
   "cell_type": "code",
   "execution_count": 6,
   "metadata": {
    "collapsed": false
   },
   "outputs": [
   ],
   "source": [
    "#\n",
    "# The colouring of the 24-cell (indices of colours)\n",
    "#\n",
    "c = [0, 7, 0, 6, 7, 1, 5, 6, 0, 1, 7, 4, 3, 6, 4, 5, 2, 4, 3, 2, 3, 5, 1, 2]"
   ]
  },
  {
   "cell_type": "code",
   "execution_count": 7,
   "metadata": {
    "collapsed": false
   },
   "outputs": [
    {
     "data": {
      "text/plain": [
       "[1 0 0 0]\n",
       "[0 1 0 0]\n",
       "[0 0 1 0]\n",
       "[0 0 0 1]"
      ]
     },
     "execution_count": 7,
     "metadata": {
     },
     "output_type": "execute_result"
    }
   ],
   "source": [
    "#\n",
    "# The standard basis in the set of colours\n",
    "#\n",
    "matrix(GF(2), [Colours[c[0]], Colours[c[5]], Colours[c[23]], Colours[c[12]]])"
   ]
  },
  {
   "cell_type": "code",
   "execution_count": 8,
   "metadata": {
    "collapsed": false
   },
   "outputs": [
   ],
   "source": [
    "#\n",
    "# The matrix representative of a permutation of colours\n",
    "#\n",
    "def matrix_rep(g):\n",
    "    return matrix(GF(2), [Colours[c[g(0)]], Colours[c[g(5)]], Colours[c[g(23)]], Colours[c[g(12)]]]).transpose()"
   ]
  },
  {
   "cell_type": "code",
   "execution_count": 9,
   "metadata": {
    "collapsed": false
   },
   "outputs": [
    {
     "name": "stdout",
     "output_type": "stream",
     "text": [
      "C3 x SL(2,3)\n",
      "SL(2,3)\n"
     ]
    }
   ],
   "source": [
    "#\n",
    "# Computing the group of admissible symmetries of the colouring and its image in GL(4,2)\n",
    "#\n",
    "perm_list = []\n",
    "matrix_list = []\n",
    "for g in Z.automorphism_group():\n",
    "    L = matrix_rep(g)\n",
    "    if all([Colours[c[g(v)]]==L*Colours[c[v]] for v in Z.vertices()]):\n",
    "        perm_list += [g]\n",
    "        matrix_list += [L]\n",
    "G = PermutationGroup(perm_list)\n",
    "H = MatrixGroup(matrix_list)\n",
    "print(G.structure_description()) # requires GAP\n",
    "print(H.structure_description()) # requires GAP"
   ]
  },
  {
   "cell_type": "code",
   "execution_count": 10,
   "metadata": {
    "collapsed": false
   },
   "outputs": [
   ],
   "source": [
    "#\n",
    "# Recall that SL(2,3) is isomorphic to the binary tetrahedral group: https://en.wikipedia.org/wiki/Binary_tetrahedral_group\n",
    "#"
   ]
  },
  {
   "cell_type": "code",
   "execution_count": 11,
   "metadata": {
    "collapsed": false
   },
   "outputs": [
   ],
   "source": [
    "#\n",
    "# Defining the adjacency relation for the ``matrix'' 24-cell with vertices in H\n",
    "#\n",
    "def adjacent(u,v):\n",
    "    return (u*v^-1).order()==6"
   ]
  },
  {
   "cell_type": "code",
   "execution_count": 12,
   "metadata": {
    "collapsed": false
   },
   "outputs": [
   ],
   "source": [
    "#\n",
    "# Finding triangles in H\n",
    "#\n",
    "H_list = H.list()\n",
    "H_triangles = []\n",
    "for u in H_list:\n",
    "    for v in H_list:\n",
    "        for w in H_list:\n",
    "            if adjacent(u, v) and adjacent(v, w) and adjacent(w, u):\n",
    "                H_triangles += [tuple(sorted([H_list.index(u), H_list.index(v), H_list.index(w)]))]"
   ]
  },
  {
   "cell_type": "code",
   "execution_count": 13,
   "metadata": {
    "collapsed": false
   },
   "outputs": [
   ],
   "source": [
    "#\n",
    "# The combinatorial complex with the 2-skeleton made of the above triangles\n",
    "#\n",
    "H24 = SimplicialComplex(H_triangles)"
   ]
  },
  {
   "cell_type": "code",
   "execution_count": 14,
   "metadata": {
    "collapsed": false
   },
   "outputs": [
    {
     "name": "stdout",
     "output_type": "stream",
     "text": [
      "{10: 18, 17: 20, 19: 16, 16: 0, 1: 14, 2: 1, 5: 19, 12: 23, 6: 2, 3: 21, 14: 10, 21: 12, 23: 8, 4: 4, 22: 15, 11: 6, 20: 13, 8: 17, 7: 11, 0: 9, 9: 5, 13: 7, 15: 22, 18: 3}\n"
     ]
    }
   ],
   "source": [
    "#\n",
    "# Finding an isomorphism between Z and H\n",
    "#\n",
    "_, i1 = Z.is_isomorphic(H24, certificate=True)\n",
    "print(i1)"
   ]
  },
  {
   "cell_type": "code",
   "execution_count": 15,
   "metadata": {
    "collapsed": false
   },
   "outputs": [
    {
     "name": "stdout",
     "output_type": "stream",
     "text": [
      "(0,9)(1,8)(2,10)(3,11)(4,14)(5,15)(6,12)(7,13)(16,17)(20,22)(21,23)\n"
     ]
    },
    {
     "name": "stdout",
     "output_type": "stream",
     "text": [
      "(0,1)(2,6)(3,7)(8,17)(9,16)(10,22)(11,23)(12,20)(13,21)(14,18)(15,19)\n"
     ]
    },
    {
     "name": "stdout",
     "output_type": "stream",
     "text": [
      "(0,17)(1,16)(2,20)(3,21)(4,18)(5,19)(6,22)(7,23)(8,9)(10,12)(11,13)\n"
     ]
    }
   ],
   "source": [
    "#\n",
    "# Looking for a permutation to adjust the above isomorphism so that\n",
    "# the colour of each vertex in Z = the 1st column of the respective\n",
    "# matrix in H\n",
    "#\n",
    "adjust = []\n",
    "e1 = vector(GF(2), [1,0,0,0])\n",
    "for g in H24.automorphism_group():\n",
    "    if all([Colours[c[k]] == H_list[g(i1[k])]*e1 for k in i1.keys()]):\n",
    "        print(g)\n",
    "        adjust += [g]"
   ]
  },
  {
   "cell_type": "code",
   "execution_count": 16,
   "metadata": {
    "collapsed": false
   },
   "outputs": [
    {
     "name": "stdout",
     "output_type": "stream",
     "text": [
      "{10: 4, 17: 2, 19: 1, 16: 17, 1: 14, 2: 16, 5: 5, 12: 7, 6: 20, 3: 3, 14: 12, 21: 10, 23: 9, 4: 18, 22: 15, 11: 22, 20: 11, 8: 0, 7: 13, 0: 8, 9: 19, 13: 23, 15: 6, 18: 21}\n"
     ]
    }
   ],
   "source": [
    "#\n",
    "# Adjusting i1 with an appropriate element above (any should do the job)\n",
    "#\n",
    "i2 = {}\n",
    "g  = adjust[2]\n",
    "for k in i1.keys():\n",
    "    i2[k] = g(i1[k])\n",
    "print(i2)"
   ]
  },
  {
   "cell_type": "code",
   "execution_count": 17,
   "metadata": {
    "collapsed": false
   },
   "outputs": [
    {
     "data": {
      "text/plain": [
       "True"
      ]
     },
     "execution_count": 17,
     "metadata": {
     },
     "output_type": "execute_result"
    }
   ],
   "source": [
    "#\n",
    "# (Double-)Checking that the colour of a vertex P \\in H is the 1st column of P\n",
    "#\n",
    "all([Colours[c[k]] == H_list[i2[k]]*e1 for k in i2.keys()])"
   ]
  },
  {
   "cell_type": "code",
   "execution_count": 18,
   "metadata": {
    "collapsed": false
   },
   "outputs": [
    {
     "name": "stdout",
     "output_type": "stream",
     "text": [
      "[[8, 19, 1, 10, 21, 4], [8, 19, 1, 14, 23, 2], [8, 1, 21, 12, 23, 6], [19, 1, 10, 14, 16, 7], [1, 10, 21, 12, 16, 3], [1, 14, 12, 16, 23, 5], [8, 19, 4, 2, 17, 13], [8, 21, 4, 6, 17, 15], [19, 10, 4, 7, 13, 22], [10, 21, 4, 3, 15, 22], [4, 17, 13, 15, 22, 0], [8, 23, 2, 6, 17, 11], [19, 14, 2, 7, 13, 20], [2, 17, 13, 0, 11, 20], [14, 23, 2, 5, 11, 20], [6, 17, 15, 0, 11, 18], [12, 23, 6, 5, 11, 18], [21, 12, 6, 3, 15, 18], [12, 16, 3, 5, 18, 9], [10, 16, 7, 3, 22, 9], [3, 15, 22, 0, 18, 9], [5, 0, 11, 20, 18, 9], [14, 16, 7, 5, 20, 9], [7, 13, 22, 0, 20, 9]]\n"
     ]
    }
   ],
   "source": [
    "#\n",
    "# The list of octahedra in H = the 24-cell\n",
    "#\n",
    "H_octahedra = [list(map(lambda v: i2[v], o)) for o in octahedra]\n",
    "print(H_octahedra)"
   ]
  },
  {
   "cell_type": "code",
   "execution_count": 19,
   "metadata": {
    "collapsed": false
   },
   "outputs": [
    {
     "data": {
      "image/png": "[encoded data removed]",
      "text/plain": [
       "Graphics object consisting of 19 graphics primitives"
      ]
     },
     "execution_count": 19,
     "metadata": {
     },
     "output_type": "execute_result"
    }
   ],
   "source": [
    "#\n",
    "# Choosing an octahedron in H = the 24-cell\n",
    "#\n",
    "octa = Graph();\n",
    "for i in H_octahedra[0]:\n",
    "    for j in H_octahedra[0]:\n",
    "        if adjacent(H_list[i], H_list[j]):\n",
    "            octa.add_edge(i, j)\n",
    "octa.plot().show()"
   ]
  },
  {
   "cell_type": "code",
   "execution_count": 20,
   "metadata": {
    "collapsed": false
   },
   "outputs": [
    {
     "name": "stdout",
     "output_type": "stream",
     "text": [
      "---------\n",
      "---------\n",
      "[1 0 0 0]\n",
      "[0 1 0 0]\n",
      "[0 0 1 0]\n",
      "[0 0 0 1]\n",
      "---------\n",
      "[1 1 0 1]\n",
      "[1 0 1 1]\n",
      "[1 0 0 0]\n",
      "[0 0 0 1]\n",
      "---------\n",
      "---------\n",
      "[1 0 0 1]\n",
      "[1 0 1 0]\n",
      "[0 1 1 1]\n",
      "[1 0 1 1]\n",
      "---------\n",
      "[0 0 1 0]\n",
      "[1 0 1 0]\n",
      "[0 0 1 1]\n",
      "[0 1 0 0]\n",
      "---------\n",
      "---------\n",
      "[0 1 1 0]\n",
      "[0 0 0 1]\n",
      "[1 1 0 1]\n",
      "[0 1 0 1]\n",
      "---------\n",
      "[0 1 1 1]\n",
      "[1 1 1 0]\n",
      "[1 1 0 0]\n",
      "[1 0 1 0]\n",
      "---------\n",
      "---------\n"
     ]
    }
   ],
   "source": [
    "#\n",
    "# Showing the matrices corresponding to its opposite vertices\n",
    "#\n",
    "print('---------')\n",
    "print('---------')\n",
    "print(H_list[0])\n",
    "print('---------')\n",
    "print(H_list[4])\n",
    "print('---------')\n",
    "print('---------')\n",
    "print(H_list[13])\n",
    "print('---------')\n",
    "print(H_list[15])\n",
    "print('---------')\n",
    "print('---------')\n",
    "print(H_list[17])\n",
    "print('---------')\n",
    "print(H_list[22])\n",
    "print('---------')\n",
    "print('---------')"
   ]
  },
  {
   "cell_type": "code",
   "execution_count": 21,
   "metadata": {
    "collapsed": false
   },
   "outputs": [
    {
     "name": "stdout",
     "output_type": "stream",
     "text": [
      "True\n"
     ]
    }
   ],
   "source": [
    "#\n",
    "# The colouring is proper on a particular octahedron\n",
    "#\n",
    "# Since H acts transitively on the 24-cell, then the\n",
    "# colouring is proper on each of its octahedral facets\n",
    "#\n",
    "flag = []\n",
    "e1 = vector(GF(2),[1,0,0,0])\n",
    "for p in octa:\n",
    "    for q in octa:\n",
    "        for r in octa:\n",
    "            u = H_list[p]\n",
    "            v = H_list[q]\n",
    "            w = H_list[r]\n",
    "            if adjacent(u,v) and adjacent(v,w) and adjacent(w,u):\n",
    "                U = matrix(GF(2), u)\n",
    "                V = matrix(GF(2), v)\n",
    "                W = matrix(GF(2), w)\n",
    "                flag += [matrix(GF(2),[U*e1,V*e1,W*e1]).rank()==3]\n",
    "print(all(flag))"
   ]
  },
  {
   "cell_type": "code",
   "execution_count": 22,
   "metadata": {
    "collapsed": false
   },
   "outputs": [
   ],
   "source": [
    "#\n",
    "# The colouring produces a Hantzsche--Wendt manifold:\n",
    "# its defining matrix is \\Lambda and its T-set is given by\n",
    "# T = {e_12 = e_1 + e_2, e_34 = e_3 + e_4, e_56 = e_5 + e_6}\n",
    "#\n",
    "Lambda = [[1, 1, 0, 0, 0, 1],\n",
    "          [0, 0, 1, 0, 0, 1],\n",
    "          [0, 1, 0, 0, 1, 1],\n",
    "          [0, 1, 0, 1, 0, 0]]\n",
    "Lambda = matrix(GF(2), Lambda)\n",
    "e12 = vector(GF(2),[1,1,0,0,0,0])\n",
    "e34 = vector(GF(2),[0,0,1,1,0,0])\n",
    "e56 = vector(GF(2),[0,0,0,0,1,1])"
   ]
  },
  {
   "cell_type": "code",
   "execution_count": 23,
   "metadata": {
    "collapsed": false
   },
   "outputs": [
    {
     "data": {
      "text/plain": [
       "(False, False, False)"
      ]
     },
     "execution_count": 23,
     "metadata": {
     },
     "output_type": "execute_result"
    }
   ],
   "source": [
    "#\n",
    "# Applying Proposition 3.1 from [Ferrari, Kolpakov, Slavich]\n",
    "#\n",
    "e12 in Lambda.row_space().list(), e34 in Lambda.row_space().list(), e56 in Lambda.row_space().list()\n",
    "#\n",
    "# (False, False, False) means that the T-set does not intersect the row space of \\Lambda\n",
    "#"
   ]
  },
  {
   "cell_type": "code",
   "execution_count": 24,
   "metadata": {
    "collapsed": false
   },
   "outputs": [
    {
     "name": "stdout",
     "output_type": "stream",
     "text": [
      "---------\n",
      "[1 0 0 0]\n",
      "[0 1 0 0]\n",
      "[0 0 1 0]\n",
      "[0 0 0 1]\n",
      "---------\n"
     ]
    }
   ],
   "source": [
    "#\n",
    "# The action of H on the left does not preserve the colouring (as expected), and has a trivial stabiliser\n",
    "#\n",
    "sym = []\n",
    "for s in H_list:\n",
    "    if all([matrix(s*h)*e1==matrix(h)*e1 for h in H_list]):\n",
    "        sym += [s]\n",
    "for s in sym:\n",
    "    print('---------')\n",
    "    print(s)\n",
    "    print('---------')"
   ]
  },
  {
   "cell_type": "code",
   "execution_count": 25,
   "metadata": {
    "collapsed": false
   },
   "outputs": [
    {
     "name": "stdout",
     "output_type": "stream",
     "text": [
      "---------\n",
      "[1 0 0 0]\n",
      "[0 1 0 0]\n",
      "[0 0 1 0]\n",
      "[0 0 0 1]\n",
      "---------\n",
      "---------\n",
      "[1 1 0 0]\n",
      "[0 1 0 1]\n",
      "[0 0 1 0]\n",
      "[0 1 0 0]\n",
      "---------\n",
      "---------\n",
      "[1 0 0 1]\n",
      "[0 0 0 1]\n",
      "[0 0 1 0]\n",
      "[0 1 0 1]\n",
      "---------\n"
     ]
    }
   ],
   "source": [
    "# The action of H on the right has a cyclic order 3 subgroup that preserves the facet colours\n",
    "sym = []\n",
    "for s in H_list:\n",
    "    if all([matrix(h*s)*e1==matrix(h)*e1 for h in H_list]):\n",
    "        sym += [s]\n",
    "for s in sym:\n",
    "    print('---------')\n",
    "    print(s)\n",
    "    print('---------')"
   ]
  },
  {
   "cell_type": "code",
   "execution_count": 26,
   "metadata": {
    "collapsed": false
   },
   "outputs": [
   ],
   "source": [
    "#\n",
    "# Below we provide a further computation that finds an explicit injective homomorphism from\n",
    "# the binary tetrahedral group described via Hurwitz quaternions onto H as a subgroup of GL(4,2)\n",
    "#"
   ]
  },
  {
   "cell_type": "code",
   "execution_count": 27,
   "metadata": {
    "collapsed": false
   },
   "outputs": [
    {
     "name": "stdout",
     "output_type": "stream",
     "text": [
      "Defining I, J, K\n"
     ]
    }
   ],
   "source": [
    "#\n",
    "# Defining the quaternion algebra for the binary tetrahedral group\n",
    "#\n",
    "z = QQ['z'].0\n",
    "F = NumberField(z^2 - z - 1,'s'); F\n",
    "Q.<I,J,K>=QuaternionAlgebra(F(-1),F(-1))\n",
    "s = F.0; s\n",
    "Q.inject_variables()"
   ]
  },
  {
   "cell_type": "code",
   "execution_count": 28,
   "metadata": {
    "collapsed": false
   },
   "outputs": [
   ],
   "source": [
    "#\n",
    "# The set of elements of the binary tetrahedral group\n",
    "#\n",
    "BinTset=[1,\n",
    " -K,\n",
    " -1/2 + 1/2*I + (-1/2)*J + (-1/2)*K,\n",
    " -1/2 + 1/2*I + (-1/2)*J + 1/2*K,\n",
    " -1/2 + 1/2*I + 1/2*J + 1/2*K,\n",
    " -1/2 + 1/2*I + 1/2*J + (-1/2)*K,\n",
    " -1/2 + (-1/2)*I + 1/2*J + (-1/2)*K,\n",
    " -I,\n",
    " -1/2 + (-1/2)*I + 1/2*J + 1/2*K,\n",
    " 1/2 + (-1/2)*I + (-1/2)*J + (-1/2)*K,\n",
    " 1/2 + (-1/2)*I + (-1/2)*J + 1/2*K,\n",
    " -1/2 + (-1/2)*I + (-1/2)*J + 1/2*K,\n",
    " -1/2 + (-1/2)*I + (-1/2)*J + (-1/2)*K,\n",
    " 1/2 + 1/2*I + 1/2*J + (-1/2)*K,\n",
    " I,\n",
    " 1/2 + 1/2*I + 1/2*J + 1/2*K,\n",
    " 1/2 + (-1/2)*I + 1/2*J + 1/2*K,\n",
    " 1/2 + (-1/2)*I + 1/2*J + (-1/2)*K,\n",
    " 1/2 + 1/2*I + (-1/2)*J + 1/2*K,\n",
    " 1/2 + 1/2*I + (-1/2)*J + (-1/2)*K,\n",
    " J,\n",
    " -J,\n",
    " K,\n",
    " -1]\n",
    "#\n",
    "# Creating the group as a list of quaternions\n",
    "#\n",
    "BinT = [Q(q) for q in BinTset]"
   ]
  },
  {
   "cell_type": "code",
   "execution_count": 29,
   "metadata": {
    "collapsed": false
   },
   "outputs": [
    {
     "name": "stdout",
     "output_type": "stream",
     "text": [
      "J , -1\n",
      "1/2 + 1/2*I + 1/2*J + 1/2*K , -1/2 + 1/2*I + 1/2*J + 1/2*K , -1\n",
      "1/2 + 1/2*I + 1/2*J + (-1/2)*K , -1/2 + 1/2*I + 1/2*J + (-1/2)*K , -1\n"
     ]
    }
   ],
   "source": [
    "#\n",
    "# The binary tetrahedral group has presentation < s,t | (s*t)^2=t^3=s^3 >,\n",
    "# where we can put s=1/2*(1+i+j+k), t=1/2*(1+i+j-k)\n",
    "#\n",
    "S = 1/2*(1+I+J+K)\n",
    "T = 1/2*(1+I+J-K)\n",
    "print((S*T), ',', (S*T)^2)\n",
    "print(S, ',', S^2, ',', S^3)\n",
    "print(T, ',', T^2, ',', T^3)"
   ]
  },
  {
   "cell_type": "code",
   "execution_count": 30,
   "metadata": {
    "collapsed": false
   },
   "outputs": [
    {
     "name": "stdout",
     "output_type": "stream",
     "text": [
      "---------\n",
      "s = \n",
      "[0 0 1 1]\n",
      "[0 1 0 1]\n",
      "[1 1 0 1]\n",
      "[0 1 0 0]\n",
      "t = \n",
      "[1 1 0 1]\n",
      "[1 1 1 0]\n",
      "[1 0 0 1]\n",
      "[0 1 0 1]\n",
      "---------\n",
      "---------\n",
      "s = \n",
      "[0 0 1 1]\n",
      "[0 1 0 1]\n",
      "[1 1 0 1]\n",
      "[0 1 0 0]\n",
      "t = \n",
      "[1 1 0 0]\n",
      "[0 0 0 1]\n",
      "[1 0 0 0]\n",
      "[1 0 1 0]\n",
      "---------\n",
      "---------\n",
      "s = \n",
      "[0 0 1 1]\n",
      "[0 1 0 1]\n",
      "[1 1 0 1]\n",
      "[0 1 0 0]\n",
      "t = \n",
      "[0 1 1 1]\n",
      "[1 1 1 0]\n",
      "[1 1 0 0]\n",
      "[1 0 1 0]\n",
      "---------\n",
      "---------\n",
      "s = \n",
      "[0 1 1 1]\n",
      "[0 1 0 1]\n",
      "[0 1 1 0]\n",
      "[1 0 1 1]\n",
      "t = \n",
      "[0 1 1 0]\n",
      "[0 0 0 1]\n",
      "[1 1 0 1]\n",
      "[0 1 0 1]\n",
      "---------\n",
      "---------\n",
      "s = \n",
      "[0 1 1 1]\n",
      "[0 1 0 1]\n",
      "[0 1 1 0]\n",
      "[1 0 1 1]\n",
      "t = \n",
      "[1 1 0 1]\n",
      "[1 1 1 0]\n",
      "[1 0 0 1]\n",
      "[0 1 0 1]\n",
      "---------\n",
      "---------\n"
     ]
    },
    {
     "name": "stdout",
     "output_type": "stream",
     "text": [
      "s = \n",
      "[0 1 1 1]\n",
      "[0 1 0 1]\n",
      "[0 1 1 0]\n",
      "[1 0 1 1]\n",
      "t = \n",
      "[1 1 0 0]\n",
      "[0 0 0 1]\n",
      "[1 0 0 0]\n",
      "[1 0 1 0]\n",
      "---------\n",
      "---------\n",
      "s = \n",
      "[1 0 0 1]\n",
      "[1 0 1 0]\n",
      "[0 1 1 1]\n",
      "[1 0 1 1]\n",
      "t = \n",
      "[0 1 1 0]\n",
      "[0 0 0 1]\n",
      "[1 1 0 1]\n",
      "[0 1 0 1]\n",
      "---------\n"
     ]
    },
    {
     "name": "stdout",
     "output_type": "stream",
     "text": [
      "---------\n",
      "s = \n",
      "[1 0 0 1]\n",
      "[1 0 1 0]\n",
      "[0 1 1 1]\n",
      "[1 0 1 1]\n",
      "t = \n",
      "[1 1 0 0]\n",
      "[0 0 0 1]\n",
      "[1 0 0 0]\n",
      "[1 0 1 0]\n",
      "---------\n",
      "---------\n",
      "s = \n",
      "[1 0 0 1]\n",
      "[1 0 1 0]\n",
      "[0 1 1 1]\n",
      "[1 0 1 1]\n",
      "t = \n",
      "[0 1 1 1]\n",
      "[1 1 1 0]\n",
      "[1 1 0 0]\n",
      "[1 0 1 0]\n",
      "---------\n"
     ]
    },
    {
     "name": "stdout",
     "output_type": "stream",
     "text": [
      "---------\n",
      "s = \n",
      "[0 0 1 0]\n",
      "[1 0 1 0]\n",
      "[0 0 1 1]\n",
      "[0 1 0 0]\n",
      "t = \n",
      "[0 1 1 0]\n",
      "[0 0 0 1]\n",
      "[1 1 0 1]\n",
      "[0 1 0 1]\n",
      "---------\n",
      "---------\n",
      "s = \n",
      "[0 0 1 0]\n",
      "[1 0 1 0]\n",
      "[0 0 1 1]\n",
      "[0 1 0 0]\n",
      "t = \n",
      "[1 1 0 1]\n",
      "[1 1 1 0]\n",
      "[1 0 0 1]\n",
      "[0 1 0 1]\n",
      "---------\n",
      "---------\n",
      "s = \n",
      "[0 0 1 0]\n",
      "[1 0 1 0]\n",
      "[0 0 1 1]\n",
      "[0 1 0 0]\n",
      "t = \n",
      "[0 1 1 1]\n",
      "[1 1 1 0]\n",
      "[1 1 0 0]\n",
      "[1 0 1 0]\n",
      "---------\n",
      "---------\n",
      "s = \n",
      "[0 1 1 0]\n",
      "[0 0 0 1]\n",
      "[1 1 0 1]\n",
      "[0 1 0 1]\n",
      "t = \n",
      "[0 1 1 1]\n",
      "[0 1 0 1]\n",
      "[0 1 1 0]\n",
      "[1 0 1 1]\n",
      "---------\n",
      "---------\n",
      "s = \n",
      "[0 1 1 0]\n",
      "[0 0 0 1]\n",
      "[1 1 0 1]\n",
      "[0 1 0 1]\n",
      "t = \n",
      "[1 0 0 1]\n",
      "[1 0 1 0]\n",
      "[0 1 1 1]\n",
      "[1 0 1 1]\n",
      "---------\n",
      "---------\n",
      "s = \n",
      "[0 1 1 0]\n",
      "[0 0 0 1]\n",
      "[1 1 0 1]\n",
      "[0 1 0 1]\n",
      "t = \n",
      "[0 0 1 0]\n",
      "[1 0 1 0]\n",
      "[0 0 1 1]\n",
      "[0 1 0 0]\n",
      "---------\n"
     ]
    },
    {
     "name": "stdout",
     "output_type": "stream",
     "text": [
      "---------\n",
      "s = \n",
      "[1 1 0 1]\n",
      "[1 1 1 0]\n",
      "[1 0 0 1]\n",
      "[0 1 0 1]\n",
      "t = \n",
      "[0 0 1 1]\n",
      "[0 1 0 1]\n",
      "[1 1 0 1]\n",
      "[0 1 0 0]\n",
      "---------\n",
      "---------\n",
      "s = \n",
      "[1 1 0 1]\n",
      "[1 1 1 0]\n",
      "[1 0 0 1]\n",
      "[0 1 0 1]\n",
      "t = \n",
      "[0 1 1 1]\n",
      "[0 1 0 1]\n",
      "[0 1 1 0]\n",
      "[1 0 1 1]\n",
      "---------\n",
      "---------\n",
      "s = \n",
      "[1 1 0 1]\n",
      "[1 1 1 0]\n",
      "[1 0 0 1]\n",
      "[0 1 0 1]\n",
      "t = \n",
      "[0 0 1 0]\n",
      "[1 0 1 0]\n",
      "[0 0 1 1]\n",
      "[0 1 0 0]\n",
      "---------\n"
     ]
    },
    {
     "name": "stdout",
     "output_type": "stream",
     "text": [
      "---------\n",
      "s = \n",
      "[1 1 0 0]\n",
      "[0 0 0 1]\n",
      "[1 0 0 0]\n",
      "[1 0 1 0]\n",
      "t = \n",
      "[0 0 1 1]\n",
      "[0 1 0 1]\n",
      "[1 1 0 1]\n",
      "[0 1 0 0]\n",
      "---------\n",
      "---------\n",
      "s = \n",
      "[1 1 0 0]\n",
      "[0 0 0 1]\n",
      "[1 0 0 0]\n",
      "[1 0 1 0]\n",
      "t = \n",
      "[0 1 1 1]\n",
      "[0 1 0 1]\n",
      "[0 1 1 0]\n",
      "[1 0 1 1]\n",
      "---------\n",
      "---------\n",
      "s = \n",
      "[1 1 0 0]\n",
      "[0 0 0 1]\n",
      "[1 0 0 0]\n",
      "[1 0 1 0]\n",
      "t = \n",
      "[1 0 0 1]\n",
      "[1 0 1 0]\n",
      "[0 1 1 1]\n",
      "[1 0 1 1]\n",
      "---------\n"
     ]
    },
    {
     "name": "stdout",
     "output_type": "stream",
     "text": [
      "---------\n",
      "s = \n",
      "[0 1 1 1]\n",
      "[1 1 1 0]\n",
      "[1 1 0 0]\n",
      "[1 0 1 0]\n",
      "t = \n",
      "[0 0 1 1]\n",
      "[0 1 0 1]\n",
      "[1 1 0 1]\n",
      "[0 1 0 0]\n",
      "---------\n",
      "---------\n",
      "s = \n",
      "[0 1 1 1]\n",
      "[1 1 1 0]\n",
      "[1 1 0 0]\n",
      "[1 0 1 0]\n",
      "t = \n",
      "[1 0 0 1]\n",
      "[1 0 1 0]\n",
      "[0 1 1 1]\n",
      "[1 0 1 1]\n",
      "---------\n",
      "---------\n",
      "s = \n",
      "[0 1 1 1]\n",
      "[1 1 1 0]\n",
      "[1 1 0 0]\n",
      "[1 0 1 0]\n",
      "t = \n",
      "[0 0 1 0]\n",
      "[1 0 1 0]\n",
      "[0 0 1 1]\n",
      "[0 1 0 0]\n",
      "---------\n"
     ]
    }
   ],
   "source": [
    "#\n",
    "# Printing out all possible images in H of the generators s and t, as above\n",
    "#\n",
    "for s in H_list:\n",
    "    for t in H_list:\n",
    "        if ((s*t)^2==s^3==t^3) and (H.subgroup([s,t]).order()==24):\n",
    "            print('---------')\n",
    "            print('s = ')\n",
    "            print(s)\n",
    "            print('t = ')\n",
    "            print(t)\n",
    "            print('---------')"
   ]
  },
  {
   "cell_type": "code",
   "execution_count": 0,
   "metadata": {
    "collapsed": false
   },
   "outputs": [
   ],
   "source": [
   ]
  }
 ],
 "metadata": {
  "kernelspec": {
   "display_name": "SageMath 9.1",
   "language": "sagemath",
   "metadata": {
    "cocalc": {
     "description": "Open-source mathematical software system",
     "priority": 10,
     "url": "https://www.sagemath.org/"
    }
   },
   "name": "sage-9.1"
  },
  "language_info": {
   "codemirror_mode": {
    "name": "ipython",
    "version": 3
   },
   "file_extension": ".py",
   "mimetype": "text/x-python",
   "name": "python",
   "nbconvert_exporter": "python",
   "pygments_lexer": "ipython3",
   "version": "3.7.3"
  }
 },
 "nbformat": 4,
 "nbformat_minor": 4
}